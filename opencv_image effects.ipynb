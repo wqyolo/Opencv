{
 "cells": [
  {
   "cell_type": "code",
   "execution_count": 1,
   "metadata": {},
   "outputs": [
    {
     "name": "stdout",
     "output_type": "stream",
     "text": [
      "(393, 369)\n",
      "(393, 369, 3)\n"
     ]
    },
    {
     "data": {
      "text/plain": [
       "-1"
      ]
     },
     "execution_count": 1,
     "metadata": {},
     "output_type": "execute_result"
    }
   ],
   "source": [
    "#实现灰度效果 方法1\n",
    "#opencv默认读取的是BGR\n",
    "import cv2\n",
    "image0 = cv2.imread(\"men.jpg\", 0)\n",
    "image1 = cv2.imread(\"men.jpg\", 1)\n",
    "print(image0.shape)\n",
    "print(image1.shape)\n",
    "cv2.imshow(\"src\", image0)\n",
    "cv2.imshow(\"dst\", image1)\n",
    "cv2.imwrite('dst1.jpg',image0)\n",
    "cv2.waitKey(0)"
   ]
  },
  {
   "cell_type": "code",
   "execution_count": 2,
   "metadata": {},
   "outputs": [
    {
     "data": {
      "text/plain": [
       "-1"
      ]
     },
     "execution_count": 2,
     "metadata": {},
     "output_type": "execute_result"
    }
   ],
   "source": [
    "#实现灰度效果 方法2\n",
    "import cv2\n",
    "image0 = cv2.imread(\"men.jpg\", 1)\n",
    "dst = cv2.cvtColor(image0, cv2.COLOR_BGR2GRAY)#注意不是cv2.COLOR_BAYER_BG2GRAY\n",
    "dst1 = cv2.cvtColor(image0, cv2.COLOR_BGR2HLS)\n",
    "dst2 = cv2.cvtColor(image0, cv2.COLOR_BGR2RGB)\n",
    "cv2.imshow(\"dst\", dst)\n",
    "cv2.imshow(\"dst1\", dst1)\n",
    "cv2.imshow(\"dst2\", dst2)\n",
    "cv2.imwrite('dst2.jpg',dst)\n",
    "cv2.waitKey(0)"
   ]
  },
  {
   "cell_type": "code",
   "execution_count": 3,
   "metadata": {},
   "outputs": [
    {
     "data": {
      "text/plain": [
       "-1"
      ]
     },
     "execution_count": 3,
     "metadata": {},
     "output_type": "execute_result"
    }
   ],
   "source": [
    "#实现灰度效果 方法3\n",
    "import cv2\n",
    "import numpy as np\n",
    "img = cv2.imread('men.jpg',1)\n",
    "imgInfo = img.shape\n",
    "height = imgInfo[0]\n",
    "width = imgInfo[1]\n",
    "# RGB R=G=B = gray  (R+G+B)/3\n",
    "dst3 = np.zeros((height,width,3),np.uint8)#黑色蒙版\n",
    "for i in range(0,height):\n",
    "    for j in range(0,width):\n",
    "        (b,g,r) = img[i,j]\n",
    "        gray = (int(b)+int(g)+int(r))/3#防止np.unit8溢出\n",
    "        dst3[i,j] = np.uint8(gray)\n",
    "cv2.imshow('dst3',dst3)\n",
    "cv2.imwrite('dst3.jpg',dst3)\n",
    "cv2.waitKey(0)"
   ]
  },
  {
   "cell_type": "code",
   "execution_count": 4,
   "metadata": {},
   "outputs": [
    {
     "data": {
      "text/plain": [
       "-1"
      ]
     },
     "execution_count": 4,
     "metadata": {},
     "output_type": "execute_result"
    }
   ],
   "source": [
    "#实现灰度效果 方法4\n",
    "import cv2\n",
    "import numpy as np\n",
    "img = cv2.imread('men.jpg',1)\n",
    "imgInfo = img.shape\n",
    "height = imgInfo[0]\n",
    "width = imgInfo[1]\n",
    "# RGB R G B  gray  (R*0.299+G*0.587+B*0.114)\n",
    "dst = np.zeros((height,width,3),np.uint8)#黑色蒙版\n",
    "for i in range(0,height):\n",
    "    for j in range(0,width):\n",
    "        (b,g,r) = img[i,j]\n",
    "        gray = int(b*0.114)+int(g*0.587)+int(r*0.299)#防止np.unit8溢出\n",
    "        dst[i,j] = np.uint8(gray)\n",
    "cv2.imshow('dst4',dst)\n",
    "cv2.imwrite('dst4.jpg',dst)\n",
    "cv2.waitKey(0)"
   ]
  },
  {
   "cell_type": "code",
   "execution_count": 5,
   "metadata": {},
   "outputs": [
    {
     "name": "stdout",
     "output_type": "stream",
     "text": [
      "1.4016940593719482\n"
     ]
    },
    {
     "data": {
      "text/plain": [
       "-1"
      ]
     },
     "execution_count": 5,
     "metadata": {},
     "output_type": "execute_result"
    }
   ],
   "source": [
    "#算法优化\n",
    "#1 灰度图像是很多算法的基础，比如边缘检测，人脸识别，行人检测\n",
    "#2 实时性 \n",
    "# 定点运算比浮点运算快，加减运算比乘除运算快，移位运算比乘除运算也快 \n",
    "# r*0.299+g*0.587+b*0.114   放大倍数越大，精度越高\n",
    "import cv2\n",
    "import numpy as np\n",
    "import time\n",
    "img = cv2.imread('men.jpg',1)\n",
    "imgInfo = img.shape\n",
    "height = imgInfo[0]\n",
    "width = imgInfo[1]\n",
    "dst5 = np.zeros((height,width,3),np.uint8)\n",
    "start = time.time()\n",
    "for i in range(0,height):\n",
    "    for j in range(0,width):\n",
    "        (b,g,r) = img[i,j]\n",
    "        b = int(b)\n",
    "        g = int(g)\n",
    "        r = int(r)\n",
    "        #gray = b*0.114 + g*0.587 + r*0.299\n",
    "        gray = (r*1+g*2+b*1)/4\n",
    "        #gray = (r+(g<<1)+b)>>2#左移一位相当于*2倍\n",
    "        dst5[i,j] = np.uint8(gray)\n",
    "total_time = time.time() - start\n",
    "print(total_time)#用来对比各种运算的时间\n",
    "cv2.imshow('dst5',dst5)\n",
    "cv2.imwrite('dst5.jpg',dst5)\n",
    "cv2.waitKey(0)"
   ]
  },
  {
   "cell_type": "code",
   "execution_count": 6,
   "metadata": {},
   "outputs": [
    {
     "data": {
      "text/plain": [
       "-1"
      ]
     },
     "execution_count": 6,
     "metadata": {},
     "output_type": "execute_result"
    }
   ],
   "source": [
    "#颜色反转 类似照片上的底板效果\n",
    "#灰度图像 0-255 255-当前\n",
    "import cv2\n",
    "import numpy as np\n",
    "img = cv2.imread('men.jpg',1)\n",
    "imgInfo = img.shape\n",
    "height = imgInfo[0]\n",
    "width = imgInfo[1]\n",
    "gray = cv2.cvtColor(img,cv2.COLOR_BGR2GRAY)\n",
    "dst6 = np.zeros((height,width,1),np.uint8)\n",
    "for i in range(0,height):\n",
    "    for j in range(0,width):\n",
    "        grayPixel = gray[i,j]\n",
    "        dst6[i,j] = 255-grayPixel\n",
    "cv2.imshow('dst6',dst6)\n",
    "cv2.imwrite(\"dst6.jpg\", dst6)\n",
    "cv2.waitKey(0)"
   ]
  },
  {
   "cell_type": "code",
   "execution_count": 7,
   "metadata": {},
   "outputs": [
    {
     "data": {
      "text/plain": [
       "-1"
      ]
     },
     "execution_count": 7,
     "metadata": {},
     "output_type": "execute_result"
    }
   ],
   "source": [
    "#颜色反转\n",
    "#彩色图像 255-r 255-g 255-b\n",
    "import cv2\n",
    "import numpy as np\n",
    "img = cv2.imread('men.jpg',1)\n",
    "imgInfo = img.shape\n",
    "height = imgInfo[0]\n",
    "width = imgInfo[1]\n",
    "#gray = cv2.cvtColor(img,cv2.COLOR_BGR2GRAY)\n",
    "dst7 = np.zeros((height,width,3),np.uint8)\n",
    "for i in range(0,height):\n",
    "    for j in range(0,width):\n",
    "        (b, g, r) = img[i,j]\n",
    "        dst7[i,j] = (255-b, 255-g, 255-r)\n",
    "cv2.imshow('dst7',dst7)\n",
    "cv2.imwrite(\"dst7.jpg\", dst7)\n",
    "cv2.waitKey(0)"
   ]
  },
  {
   "cell_type": "code",
   "execution_count": 8,
   "metadata": {},
   "outputs": [
    {
     "data": {
      "text/plain": [
       "-1"
      ]
     },
     "execution_count": 8,
     "metadata": {},
     "output_type": "execute_result"
    }
   ],
   "source": [
    "#马赛克效果:将10x10的100个像素点用其中的一个像素点的值代替\n",
    "import cv2\n",
    "import numpy as np\n",
    "img = cv2.imread('men.jpg',1)\n",
    "imgInfo = img.shape\n",
    "height = imgInfo[0]\n",
    "width = imgInfo[1]\n",
    "for m in range(100,300):\n",
    "    img[m,100-1] = (0,0,255)\n",
    "    img[m,200] = (0,0,255)\n",
    "    for n in range(100,200):\n",
    "        img[100-1, n] = (0, 0, 255)\n",
    "        img[300, n] = (0,0,255)\n",
    "        \n",
    "        # pixel ->10*10\n",
    "        if m%10 == 0 and n%10==0:\n",
    "            for i in range(0,10):\n",
    "                for j in range(0,10):\n",
    "                    (b,g,r) = img[m,n]\n",
    "                    img[i+m,j+n] = (b,g,r)\n",
    "cv2.imshow('dst8',img)\n",
    "cv2.imwrite(\"dst8.jpg\", img)\n",
    "cv2.waitKey(0)"
   ]
  },
  {
   "cell_type": "code",
   "execution_count": null,
   "metadata": {},
   "outputs": [
    {
     "data": {
      "text/plain": [
       "-1"
      ]
     },
     "execution_count": 9,
     "metadata": {},
     "output_type": "execute_result"
    }
   ],
   "source": [
    "#毛玻璃效果：某个像素点的像素值用周围像素点的像素值随机代替当前的像素点。\n",
    "import cv2\n",
    "import numpy as np\n",
    "import random\n",
    "img = cv2.imread('men.jpg',1)\n",
    "imgInfo = img.shape\n",
    "height = imgInfo[0]\n",
    "width = imgInfo[1]\n",
    "dst9 = np.zeros((height,width,3),np.uint8)\n",
    "mm = 8\n",
    "for m in range(0,height):\n",
    "    for n in range(0,width):\n",
    "        index = int(random.random()*8)#0-8\n",
    "        (b,g,r) = img[m-index,n-index]#注意此处不可用+，会溢出\n",
    "        dst9[m,n] = (b,g,r)\n",
    "cv2.imshow('dst9',dst9)\n",
    "cv2.imwrite(\"dst9.jpg\", img)\n",
    "cv2.waitKey(0)"
   ]
  },
  {
   "cell_type": "code",
   "execution_count": null,
   "metadata": {},
   "outputs": [
    {
     "data": {
      "text/plain": [
       "-1"
      ]
     },
     "execution_count": 10,
     "metadata": {},
     "output_type": "execute_result"
    }
   ],
   "source": [
    "#图片融合 融合时图片大小需要保持一致\n",
    "# dst  = src1*a+src2*(1-a)\n",
    "import cv2\n",
    "import numpy as np\n",
    "img0 = cv2.imread('men.jpg',1)\n",
    "img1 = cv2.imread('gril.jpg',1)\n",
    "imgInfo = img0.shape\n",
    "height = imgInfo[0]\n",
    "width = imgInfo[1]\n",
    "# ROI\n",
    "roiH = int(height)\n",
    "roiW = int(width)\n",
    "img0ROI = img0[0:roiH,0:roiW]\n",
    "img1ROI = img1[0:roiH,0:roiW]\n",
    "# dst\n",
    "dst = np.zeros((roiH,roiW,3),np.uint8)\n",
    "dst = cv2.addWeighted(img0ROI,0.5,img1ROI,0.5,0)#add src1*a+src2*(1-a)\n",
    "# 参数：1 src1 2 a 3 src2 4 1-a\n",
    "cv2.imshow('dst',dst)\n",
    "cv2.imwrite(\"dst10.jpg\", dst)\n",
    "cv2.waitKey(0)"
   ]
  },
  {
   "cell_type": "code",
   "execution_count": null,
   "metadata": {},
   "outputs": [
    {
     "data": {
      "text/plain": [
       "-1"
      ]
     },
     "execution_count": 11,
     "metadata": {},
     "output_type": "execute_result"
    }
   ],
   "source": [
    "#边缘检测 canny实现\n",
    "#实质就是卷积运算\n",
    "import cv2\n",
    "import numpy as np\n",
    "import random\n",
    "img = cv2.imread('men.jpg',1)\n",
    "imgInfo = img.shape\n",
    "height = imgInfo[0]\n",
    "width = imgInfo[1]\n",
    "cv2.imshow('src',img)\n",
    "#canny算法： 1 gray 是对灰度图像处理 2 高斯 3 canny \n",
    "gray = cv2.cvtColor(img,cv2.COLOR_BGR2GRAY)\n",
    "imgG = cv2.GaussianBlur(gray,(3,3),0)#（3,3）是模板大小\n",
    "dst11 = cv2.Canny(gray,50,50) #图片卷积 > 阈值，即为边缘点。\n",
    "dst12 = cv2.Canny(imgG,50,50)\n",
    "cv2.imshow('dst11',dst11)#对比了高斯滤波的效果\n",
    "cv2.imshow('dst12',dst12)\n",
    "cv2.imwrite(\"dst11.jpg\", dst11)\n",
    "cv2.imwrite(\"dst12.jpg\", dst12)\n",
    "cv2.waitKey(0)"
   ]
  },
  {
   "cell_type": "code",
   "execution_count": null,
   "metadata": {},
   "outputs": [
    {
     "data": {
      "text/plain": [
       "-1"
      ]
     },
     "execution_count": 12,
     "metadata": {},
     "output_type": "execute_result"
    }
   ],
   "source": [
    "#边缘检测 sobel源码实现\n",
    "import cv2\n",
    "import numpy as np\n",
    "import random\n",
    "import math\n",
    "img = cv2.imread('men.jpg',1)\n",
    "imgInfo = img.shape\n",
    "height = imgInfo[0]\n",
    "width = imgInfo[1]\n",
    "cv2.imshow('src',img)\n",
    "# sobel 1 算子模版 2 图片卷积 3 阈值判决 \n",
    "#卷积运算和矩阵运算不同，卷积运算是对应元素相乘，矩阵运算是行列式相乘\n",
    "# [1 2 1          [ 1 0 -1\n",
    "#  0 0 0            2 0 -2\n",
    "# -1 -2 -1 ]       1 0 -1 ]\n",
    "#竖直方向算子      水平方向算子            \n",
    "# [1 2 3 4] [a b c d] a*1+b*2+c*3+d*4 = dst\n",
    "# 幅值：sqrt(a*a+b*b) = f>th  a:竖直方向梯度 竖直方向算子和图片卷积得到的 b:水平方向梯度\n",
    "gray = cv2.cvtColor(img,cv2.COLOR_BGR2GRAY)\n",
    "dst = np.zeros((height,width,1),np.uint8)\n",
    "for i in range(0,height-2):\n",
    "    for j in range(0,width-2):\n",
    "        gy = gray[i,j]*1+gray[i,j+1]*2+gray[i,j+2]*1-gray[i+2,j]*1-gray[i+2,j+1]*2-gray[i+2,j+2]*1\n",
    "        gx = gray[i,j]+gray[i+1,j]*2+gray[i+2,j]-gray[i,j+2]-gray[i+1,j+2]*2-gray[i+2,j+2]\n",
    "        grad = math.sqrt(gx*gx+gy*gy)\n",
    "        if grad>50:\n",
    "            dst[i,j] = 255\n",
    "        else:\n",
    "            dst[i,j] = 0\n",
    "cv2.imshow('dst13',dst)\n",
    "cv2.imwrite(\"dst13.jpg\", dst)\n",
    "cv2.waitKey(0)"
   ]
  },
  {
   "cell_type": "code",
   "execution_count": null,
   "metadata": {},
   "outputs": [
    {
     "data": {
      "text/plain": [
       "-1"
      ]
     },
     "execution_count": 13,
     "metadata": {},
     "output_type": "execute_result"
    }
   ],
   "source": [
    "#浮雕效果\n",
    "import cv2\n",
    "import numpy as np\n",
    "img = cv2.imread('men.jpg',1)\n",
    "imgInfo = img.shape\n",
    "height = imgInfo[0]\n",
    "width = imgInfo[1]\n",
    "gray = cv2.cvtColor(img,cv2.COLOR_BGR2GRAY)\n",
    "# newP = gray0-gray1+150 相邻像素值的差（梯度）加一个固定值（浮雕等级）\n",
    "dst = np.zeros((height,width,1),np.uint8)\n",
    "for i in range(0,height):\n",
    "    for j in range(0,width-1):\n",
    "        grayP0 = int(gray[i,j])\n",
    "        grayP1 = int(gray[i,j+1])\n",
    "        newP = grayP0-grayP1+150\n",
    "        if newP > 255:\n",
    "            newP = 255\n",
    "        if newP < 0:\n",
    "            newP = 0\n",
    "        dst[i,j] = newP\n",
    "cv2.imshow('dst',dst)\n",
    "cv2.imwrite(\"dst14.jpg\", dst)\n",
    "cv2.waitKey(0)"
   ]
  },
  {
   "cell_type": "code",
   "execution_count": null,
   "metadata": {},
   "outputs": [
    {
     "data": {
      "text/plain": [
       "-1"
      ]
     },
     "execution_count": 14,
     "metadata": {},
     "output_type": "execute_result"
    }
   ],
   "source": [
    "#颜色风格\n",
    "import cv2\n",
    "import numpy as np\n",
    "img = cv2.imread('men.jpg',1)\n",
    "cv2.imshow('src',img)\n",
    "imgInfo = img.shape\n",
    "height = imgInfo[0]\n",
    "width = imgInfo[1]\n",
    "#rgb -》RGB new “蓝色” 像素值的映射\n",
    "# b=b*1.5\n",
    "# g = g*1.3\n",
    "dst = np.zeros((height,width,3),np.uint8)\n",
    "for i in range(0,height):\n",
    "    for j in range(0,width):\n",
    "        (b,g,r) = img[i,j]\n",
    "        b = b*1.5\n",
    "        g = g*1.3\n",
    "        if b>255:\n",
    "            b = 255\n",
    "        if g>255:\n",
    "            g = 255\n",
    "        dst[i,j]=(b,g,r)\n",
    "cv2.imshow('dst',dst)\n",
    "cv2.imwrite(\"dst15.jpg\", dst)\n",
    "cv2.waitKey(0)"
   ]
  },
  {
   "cell_type": "code",
   "execution_count": null,
   "metadata": {},
   "outputs": [],
   "source": [
    "#油画效果\n",
    "#1 gray 2 7*7 10*10 3 0-255 256 4 640-63 64-127 \n",
    "# 3 10 0-63 99 \n",
    "# 4 count 5 dst = result\n",
    "\n",
    "import cv2\n",
    "import numpy as np\n",
    "img = cv2.imread('men.jpg',1)\n",
    "#cv2.imshow('src',img)\n",
    "imgInfo = img.shape\n",
    "height = imgInfo[0]\n",
    "width = imgInfo[1]\n",
    "gray = cv2.cvtColor(img,cv2.COLOR_BGR2GRAY)\n",
    "dst = np.zeros((height,width,3),np.uint8)\n",
    "for i in range(4,height-4):\n",
    "    for j in range(4,width-4):\n",
    "        array1 = np.zeros(8,np.uint8)\n",
    "        for m in range(-4,4):\n",
    "            for n in range(-4,4):\n",
    "                p1 = int(gray[i+m,j+n]/32)\n",
    "                array1[p1] = array1[p1]+1\n",
    "        currentMax = array1[0]\n",
    "        l = 0\n",
    "        for k in range(0,8):\n",
    "            if currentMax<array1[k]:\n",
    "                currentMax = array1[k]\n",
    "                l = k\n",
    "        # 简化 均值\n",
    "        for m in range(-4,4):\n",
    "            for n in range(-4,4):\n",
    "                if gray[i+m,j+n]>=(l*32) and gray[i+m,j+n]<=((l+1)*32):\n",
    "                    (b,g,r) = img[i+m,j+n]\n",
    "        dst[i,j] = (b,g,r)\n",
    "cv2.imshow('dst',dst)\n",
    "cv2.imwrite('dst16.jpg',dst)\n",
    "cv2.waitKey(0)"
   ]
  },
  {
   "cell_type": "code",
   "execution_count": null,
   "metadata": {},
   "outputs": [],
   "source": []
  }
 ],
 "metadata": {
  "kernelspec": {
   "display_name": "Python 3",
   "language": "python",
   "name": "python3"
  },
  "language_info": {
   "codemirror_mode": {
    "name": "ipython",
    "version": 3
   },
   "file_extension": ".py",
   "mimetype": "text/x-python",
   "name": "python",
   "nbconvert_exporter": "python",
   "pygments_lexer": "ipython3",
   "version": "3.7.3"
  }
 },
 "nbformat": 4,
 "nbformat_minor": 2
}
