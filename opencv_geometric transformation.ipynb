{
 "cells": [
  {
   "cell_type": "code",
   "execution_count": 3,
   "metadata": {},
   "outputs": [],
   "source": []
  },
  {
   "cell_type": "code",
   "execution_count": 2,
   "metadata": {},
   "outputs": [
    {
     "name": "stdout",
     "output_type": "stream",
     "text": [
      "(393, 369, 3)\n"
     ]
    },
    {
     "data": {
      "text/plain": [
       "-1"
      ]
     },
     "execution_count": 2,
     "metadata": {},
     "output_type": "execute_result"
    }
   ],
   "source": [
    "'''\n",
    "#缩放\n",
    "import cv2\n",
    "img = cv2.imread(\"men.jpg\")\n",
    "cv2.imshow(\"src\", img)\n",
    "imginfo = img.shape\n",
    "print(imginfo)\n",
    "height = imginfo[0]\n",
    "width = imginfo[1]\n",
    "destheight = int(0.5* height)\n",
    "destwidth = int(0.5* width)\n",
    "destimg = cv2.resize(img, (destheight, destwidth))\n",
    "cv2.imshow(\"img2\", destimg)#\n",
    "cv2.imwrite(\"dst1.jpg\",destimg)\n",
    "cv2.waitKey(0)"
   ]
  },
  {
   "cell_type": "code",
   "execution_count": 4,
   "metadata": {},
   "outputs": [
    {
     "name": "stdout",
     "output_type": "stream",
     "text": [
      "(586, 440, 3)\n"
     ]
    },
    {
     "data": {
      "text/plain": [
       "-1"
      ]
     },
     "execution_count": 4,
     "metadata": {},
     "output_type": "execute_result"
    }
   ],
   "source": [
    "'''\n",
    "import cv2\n",
    "import numpy as np\n",
    "img = cv2.imread(\"men.jpg\")\n",
    "imginfo = img.shape\n",
    "print(imginfo)\n",
    "height = imginfo[0]\n",
    "width = imginfo[1]\n",
    "destheight = int(0.5* height)\n",
    "destwidth = int(0.5* width)\n",
    "model = np.zeros((destheight, destwidth, 3), np.uint8)\n",
    "cv2.imshow(\"mo\", model)\n",
    "cv2.imwrite(\"dst6.jpg\",dst)\n",
    "cv2.waitKey(0)"
   ]
  },
  {
   "cell_type": "code",
   "execution_count": 2,
   "metadata": {},
   "outputs": [
    {
     "name": "stdout",
     "output_type": "stream",
     "text": [
      "(393, 369, 3)\n"
     ]
    },
    {
     "data": {
      "text/plain": [
       "-1"
      ]
     },
     "execution_count": 2,
     "metadata": {},
     "output_type": "execute_result"
    }
   ],
   "source": [
    "'''\n",
    "#剪切\n",
    "import cv2\n",
    "import numpy as np\n",
    "img = cv2.imread(\"men.jpg\")\n",
    "imginfo = img.shape\n",
    "print(imginfo)\n",
    "height = imginfo[0]\n",
    "width = imginfo[1]\n",
    "destimg = img[100: 200, 200: 300]\n",
    "cv2.imshow(\"mo\", destimg)\n",
    "cv2.imwrite(\"dst2.jpg\",destimg)\n",
    "cv2.waitKey(0)"
   ]
  },
  {
   "cell_type": "code",
   "execution_count": 3,
   "metadata": {},
   "outputs": [
    {
     "name": "stdout",
     "output_type": "stream",
     "text": [
      "(393, 369, 3)\n"
     ]
    },
    {
     "data": {
      "text/plain": [
       "-1"
      ]
     },
     "execution_count": 3,
     "metadata": {},
     "output_type": "execute_result"
    }
   ],
   "source": [
    "'''\n",
    "#移位\n",
    "import cv2\n",
    "import numpy as np\n",
    "img = cv2.imread(\"men.jpg\")\n",
    "cv2.imshow(\"src\", img)\n",
    "imginfo = img.shape\n",
    "print(imginfo)\n",
    "height = imginfo[0]\n",
    "width = imginfo[1]\n",
    "matshift = np.float32([[1, 0, 100], [0, 1, 150]])\n",
    "dest = cv2.warpAffine(img, matshift, (height, width))\n",
    "cv2.imshow(\"det\", dest)\n",
    "cv2.imwrite(\"dst3.jpg\",dest)\n",
    "cv2.waitKey(0)"
   ]
  },
  {
   "cell_type": "code",
   "execution_count": 4,
   "metadata": {},
   "outputs": [
    {
     "name": "stdout",
     "output_type": "stream",
     "text": [
      "(393, 369, 3)\n"
     ]
    },
    {
     "data": {
      "text/plain": [
       "-1"
      ]
     },
     "execution_count": 4,
     "metadata": {},
     "output_type": "execute_result"
    }
   ],
   "source": [
    "'''\n",
    "#移位\n",
    "import cv2\n",
    "import numpy as np\n",
    "img = cv2.imread(\"men.jpg\")\n",
    "cv2.imshow(\"src\", img)\n",
    "imginfo = img.shape\n",
    "print(imginfo)\n",
    "height = imginfo[0]\n",
    "width = imginfo[1]\n",
    "dst = np.zeros(imginfo, np.uint8)\n",
    "for i in range(0, height- 100):\n",
    "    for j in range(0, width- 150):\n",
    "        dst[i+100, j+150] = img[i, j]\n",
    "cv2.imshow(\"det\", dst)\n",
    "cv2.imwrite(\"dst4.jpg\",dst)\n",
    "cv2.waitKey(0)"
   ]
  },
  {
   "cell_type": "code",
   "execution_count": 5,
   "metadata": {},
   "outputs": [
    {
     "name": "stdout",
     "output_type": "stream",
     "text": [
      "(393, 369, 3)\n",
      "[[[0 0 0]\n",
      "  [0 0 0]\n",
      "  [0 0 0]\n",
      "  ...\n",
      "  [0 0 0]\n",
      "  [0 0 0]\n",
      "  [0 0 0]]\n",
      "\n",
      " [[0 0 0]\n",
      "  [0 0 0]\n",
      "  [0 0 0]\n",
      "  ...\n",
      "  [0 0 0]\n",
      "  [0 0 0]\n",
      "  [0 0 0]]\n",
      "\n",
      " [[0 0 0]\n",
      "  [0 0 0]\n",
      "  [0 0 0]\n",
      "  ...\n",
      "  [0 0 0]\n",
      "  [0 0 0]\n",
      "  [0 0 0]]\n",
      "\n",
      " ...\n",
      "\n",
      " [[0 0 0]\n",
      "  [0 0 0]\n",
      "  [0 0 0]\n",
      "  ...\n",
      "  [0 0 0]\n",
      "  [0 0 0]\n",
      "  [0 0 0]]\n",
      "\n",
      " [[0 0 0]\n",
      "  [0 0 0]\n",
      "  [0 0 0]\n",
      "  ...\n",
      "  [0 0 0]\n",
      "  [0 0 0]\n",
      "  [0 0 0]]\n",
      "\n",
      " [[0 0 0]\n",
      "  [0 0 0]\n",
      "  [0 0 0]\n",
      "  ...\n",
      "  [0 0 0]\n",
      "  [0 0 0]\n",
      "  [0 0 0]]]\n"
     ]
    },
    {
     "data": {
      "text/plain": [
       "-1"
      ]
     },
     "execution_count": 5,
     "metadata": {},
     "output_type": "execute_result"
    }
   ],
   "source": [
    "'''\n",
    "#镜像\n",
    "import cv2\n",
    "import numpy as np\n",
    "img = cv2.imread(\"men.jpg\")\n",
    "cv2.imshow(\"src\", img)\n",
    "imginfo = img.shape\n",
    "print(imginfo)\n",
    "height = imginfo[0]\n",
    "width = imginfo[1]\n",
    "newimginfo = (2* height, width, 3)\n",
    "dst = np.zeros(newimginfo, np.uint8)\n",
    "print(dst)\n",
    "for i in range(0, height):\n",
    "    for j in range(0, width):\n",
    "        dst[i, j] = img[i, j]\n",
    "        dst[2* height- i- 1, j] = img[i, j]\n",
    "for i in range(0, width):\n",
    "    dst[height, i] = (0, 0, 255)\n",
    "cv2.imshow(\"dst\", dst)\n",
    "cv2.imwrite(\"dst5.jpg\",dst)\n",
    "cv2.waitKey(0)"
   ]
  },
  {
   "cell_type": "code",
   "execution_count": 6,
   "metadata": {},
   "outputs": [
    {
     "name": "stdout",
     "output_type": "stream",
     "text": [
      "(393, 369, 3)\n"
     ]
    },
    {
     "data": {
      "text/plain": [
       "-1"
      ]
     },
     "execution_count": 6,
     "metadata": {},
     "output_type": "execute_result"
    }
   ],
   "source": [
    "'''\n",
    "#仿射变换\n",
    "import cv2\n",
    "import numpy as np\n",
    "img = cv2.imread(\"men.jpg\")\n",
    "cv2.imshow(\"src\", img)\n",
    "imginfo = img.shape\n",
    "print(imginfo)\n",
    "height = imginfo[0]\n",
    "width = imginfo[1]\n",
    "matsrc = np.float32([[0,0],[0,height-1],[width-1,0]])\n",
    "matdst = np.float32([[50,50],[0,height-200],[width-200,0]])\n",
    "matAffine = cv2.getAffineTransform(matsrc, matdst)\n",
    "dst = cv2.warpAffine(img, matAffine, (height,width))\n",
    "cv2.imshow(\"dst\", dst)\n",
    "cv2.imwrite(\"dst6.jpg\",dst)\n",
    "cv2.waitKey(0)"
   ]
  },
  {
   "cell_type": "code",
   "execution_count": 7,
   "metadata": {},
   "outputs": [
    {
     "name": "stdout",
     "output_type": "stream",
     "text": [
      "(393, 369, 3)\n"
     ]
    },
    {
     "data": {
      "text/plain": [
       "-1"
      ]
     },
     "execution_count": 7,
     "metadata": {},
     "output_type": "execute_result"
    }
   ],
   "source": [
    "#'''\n",
    "#旋转\n",
    "import cv2\n",
    "import numpy as np\n",
    "img = cv2.imread(\"men.jpg\")\n",
    "cv2.imshow(\"src\", img)\n",
    "imginfo = img.shape\n",
    "print(imginfo)\n",
    "height = imginfo[0]\n",
    "width = imginfo[1]\n",
    "matAffine = cv2.getRotationMatrix2D((height*0.5,width*0.5),45,0.3)#\n",
    "dst = cv2.warpAffine(img,matAffine,(height,width))#（width,height）无所谓，只是\n",
    "cv2.imshow(\"dst\", dst)\n",
    "cv2.imwrite(\"dst7.jpg\",dst)\n",
    "cv2.waitKey(0)"
   ]
  },
  {
   "cell_type": "code",
   "execution_count": 1,
   "metadata": {},
   "outputs": [],
   "source": []
  },
  {
   "cell_type": "code",
   "execution_count": null,
   "metadata": {},
   "outputs": [],
   "source": []
  }
 ],
 "metadata": {
  "kernelspec": {
   "display_name": "Python 3",
   "language": "python",
   "name": "python3"
  },
  "language_info": {
   "codemirror_mode": {
    "name": "ipython",
    "version": 3
   },
   "file_extension": ".py",
   "mimetype": "text/x-python",
   "name": "python",
   "nbconvert_exporter": "python",
   "pygments_lexer": "ipython3",
   "version": "3.7.3"
  },
  "pycharm": {
   "stem_cell": {
    "cell_type": "raw",
    "metadata": {
     "collapsed": false
    },
    "source": []
   }
  }
 },
 "nbformat": 4,
 "nbformat_minor": 2
}
